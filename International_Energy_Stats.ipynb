{
  "nbformat": 4,
  "nbformat_minor": 0,
  "metadata": {
    "colab": {
      "name": "International_Energy_Stats.ipynb",
      "version": "0.3.2",
      "provenance": [],
      "include_colab_link": true
    },
    "kernelspec": {
      "name": "python3",
      "display_name": "Python 3"
    },
    "accelerator": "TPU"
  },
  "cells": [
    {
      "cell_type": "markdown",
      "metadata": {
        "id": "view-in-github",
        "colab_type": "text"
      },
      "source": [
        "<a href=\"https://colab.research.google.com/github/cass-android/international_energy_stats/blob/master/International_Energy_Stats.ipynb\" target=\"_parent\"><img src=\"https://colab.research.google.com/assets/colab-badge.svg\" alt=\"Open In Colab\"/></a>"
      ]
    },
    {
      "cell_type": "code",
      "metadata": {
        "id": "rDqfAAgERx5c",
        "colab_type": "code",
        "colab": {
          "base_uri": "https://localhost:8080/",
          "height": 54
        },
        "outputId": "cec345d4-ec74-4de7-a25c-797c9c0d3233"
      },
      "source": [
        "import pandas as pd\n",
        "import re\n",
        "from google.colab import drive\n",
        "drive.mount('/content/drive')"
      ],
      "execution_count": 229,
      "outputs": [
        {
          "output_type": "stream",
          "text": [
            "Drive already mounted at /content/drive; to attempt to forcibly remount, call drive.mount(\"/content/drive\", force_remount=True).\n"
          ],
          "name": "stdout"
        }
      ]
    },
    {
      "cell_type": "markdown",
      "metadata": {
        "id": "mMYOxd2pLcGT",
        "colab_type": "text"
      },
      "source": [
        "# Notes on Data \n",
        "\n",
        "**Sources**\n",
        "\n",
        "*   http://data.un.org/Explorer.aspx\n",
        "\n",
        "\n",
        "**Units and number of categories using them:**\n",
        "\n",
        "*   'Cubic metres, thousand' : 1 (fuelwood)\n",
        "*   'Metric tons,  thousand' : 48 \n",
        "*   'Kilowatt-hours, million' :  9\n",
        "*   'Terajoules' : 15\n",
        "*   'kW' : 1 (electricity_net_installed_capacity_of_electric_power_plants')\n",
        "*   'Metric Tons' : 1 uranium (reserves and production)\n",
        "\n",
        "    \n",
        " **Resources used for conversion factors:**\n",
        "\n",
        "*  https://millenniumindicators.un.org/unsd/energy/balance/2013/05.pd\n",
        "*   https://www150.statcan.gc.ca/n1/pub/57-601-x/2010004/appendix-appendice1-eng.htm\n",
        "*   https://unstats.un.org/unsd/energy/balance/conversion.htm (2004)\n",
        "\n",
        "\n",
        "**Other notes:**\n",
        "\n",
        "*   Data does not appear to include electricity end uses\n",
        "*    'Final energy consumption' Refers to all fuel and energy that are delivered to users for their energy use. Includes transportation.\n",
        "*    'Production' Seems to include both primary and secondary (e.g. electricity)\n",
        "\n",
        "\n",
        "   \n",
        "   \n",
        "\n",
        "\n"
      ]
    },
    {
      "cell_type": "code",
      "metadata": {
        "id": "9c-mmWKyLaln",
        "colab_type": "code",
        "colab": {}
      },
      "source": [
        "data = pd.read_csv('/content/drive/My Drive/Data/all_energy_statistics_2019.csv')\n",
        "cf = pd.read_csv('/content/drive/My Drive/Data/conversionfactors.csv')\n",
        "\n",
        "# Convert Quantity to TJ\n",
        "\n",
        "data = data.merge(cf, how='left', on='category')\n",
        "\n",
        "data.insert( \n",
        "    column='Quantity_TJ', \n",
        "    loc=8, \n",
        "    value= data['Quantity'] * \n",
        "    data['TJ_conversion']\n",
        ")\n",
        "\n",
        "\n",
        "data.insert(column='Flow_Category', loc=7, value=\"\")\n",
        "data.drop('Unit_y', axis=1, inplace=True)\n",
        "data['Year'] = data['Year'].fillna(0).astype(int)\n"
      ],
      "execution_count": 0,
      "outputs": []
    },
    {
      "cell_type": "code",
      "metadata": {
        "id": "LRJIeXe66YgL",
        "colab_type": "code",
        "colab": {}
      },
      "source": [
        "# Add Per-capita from population stats\n",
        "\n",
        "pop = pd.read_csv('/content/drive/My Drive/Data/population.csv', header = 4).drop(\n",
        "    columns=['Country Code','Indicator Name','Indicator Code']\n",
        ")\n",
        "\n",
        "pop = pd.DataFrame(pop.set_index('Country Name').unstack())\n",
        "data['Year'] = data['Year'].astype(str)\n",
        "data = data.merge(pop, how='left', left_on=['Year','Country or Area'], right_index=True)\n",
        "data = data.rename({0:'Population'}, axis=1)\n",
        "data.insert(\n",
        "            column = 'TJ_per_capita',\n",
        "            loc = 11,\n",
        "            value = data['Quantity_TJ'].divide(data['Population'])\n",
        "            )"
      ],
      "execution_count": 0,
      "outputs": []
    },
    {
      "cell_type": "code",
      "metadata": {
        "id": "ocp9XYgOEp93",
        "colab_type": "code",
        "colab": {}
      },
      "source": [
        "# Add Per-GDP from gdp stats\n",
        "\n",
        "gdp = pd.read_csv('/content/drive/My Drive/Data/gdp_usd.csv', header = 4).drop(\n",
        "    columns=['Country Code','Indicator Name','Indicator Code']\n",
        ")\n",
        "gdp = pd.DataFrame(gdp.set_index('Country Name').unstack())\n",
        "data['Year'] = data['Year'].astype(str)\n",
        "data = data.merge(gdp, how='left', left_on=['Year','Country or Area'], right_index=True)\n",
        "data = data.rename({0:'GDP_USD'}, axis=1)\n",
        "data.insert(\n",
        "            column = 'TJ_per_GDP$',\n",
        "            loc = 11,\n",
        "            value = data['Quantity_TJ'].divide(data['GDP_USD'])\n",
        "            )"
      ],
      "execution_count": 0,
      "outputs": []
    },
    {
      "cell_type": "code",
      "metadata": {
        "id": "1_fUQAXX3s4J",
        "colab_type": "code",
        "colab": {}
      },
      "source": [
        "# Add 'Flow_Category' (from Commodity - Transaction)\n",
        "\n",
        "Flow_Categories = [\n",
        "    'Receipts from other sources', \n",
        "    'Imports',\n",
        "    'Exports',\n",
        "    'International marine bunkers',\n",
        "    'International aviation bunkers',\n",
        "    'Stock changes',\n",
        "    'Transfers',\n",
        "    'Transformation',\n",
        "    'Energy industries own use',\n",
        "    'Losses',\n",
        "    'Final consumption',\n",
        "    'Non-energy uses',\n",
        "    'Final energy consumption', \n",
        "    'Production'\n",
        "]\n",
        "\n",
        "def function(row) :\n",
        "    for i in Flow_Categories:\n",
        "        if re.search(i.lower(), row['Commodity - Transaction'].lower()):\n",
        "            row['Flow_Category'] = i\n",
        "            return row\n",
        "    return row\n",
        "  \n",
        "data = data.apply(\n",
        "    func=function,\n",
        "    axis=1\n",
        ")"
      ],
      "execution_count": 0,
      "outputs": []
    },
    {
      "cell_type": "code",
      "metadata": {
        "id": "4QjvRHk_8xFz",
        "colab_type": "code",
        "colab": {
          "base_uri": "https://localhost:8080/",
          "height": 340
        },
        "outputId": "8b483c2e-1b37-4a91-9d38-550debfdfe6b"
      },
      "source": [
        "data.info()"
      ],
      "execution_count": 276,
      "outputs": [
        {
          "output_type": "stream",
          "text": [
            "<class 'pandas.core.frame.DataFrame'>\n",
            "Int64Index: 1320099 entries, 0 to 1320098\n",
            "Data columns (total 14 columns):\n",
            "Country or Area            1320099 non-null object\n",
            "Commodity - Transaction    1320099 non-null object\n",
            "Year                       1320099 non-null object\n",
            "Unit_x                     1319949 non-null object\n",
            "Quantity                   1319949 non-null float64\n",
            "Quantity Footnotes         178084 non-null float64\n",
            "category                   1320099 non-null object\n",
            "Flow_Category              1320099 non-null object\n",
            "Quantity_TJ                1257990 non-null float64\n",
            "TJ_conversion              1258136 non-null float64\n",
            "Population                 1119610 non-null float64\n",
            "TJ_per_GDP$                1044557 non-null float64\n",
            "TJ_per_capita              1068649 non-null float64\n",
            "GDP_USD                    1093640 non-null float64\n",
            "dtypes: float64(8), object(6)\n",
            "memory usage: 151.1+ MB\n"
          ],
          "name": "stdout"
        }
      ]
    },
    {
      "cell_type": "code",
      "metadata": {
        "id": "4r3O6uLX8_wL",
        "colab_type": "code",
        "colab": {}
      },
      "source": [
        "data.to_csv('/content/drive/My Drive/Data/all_energy_statistics_2019_V2.csv')"
      ],
      "execution_count": 0,
      "outputs": []
    },
    {
      "cell_type": "code",
      "metadata": {
        "id": "aqzqK21g4qP-",
        "colab_type": "code",
        "colab": {}
      },
      "source": [
        "# for later...?\n",
        "\n",
        "totals = data[data['Year']==1990].groupby(by=['Country or Area'])['Quantity'].sum()\n",
        "\n",
        "# Sankey : for another day\n",
        "\n",
        "import urllib\n",
        "import json\n",
        "url = 'https://raw.githubusercontent.com/plotly/plotly.js/master/test/image/mocks/sankey_energy.json'\n",
        "response = urllib.request.urlopen(url)\n",
        "sankey = json.loads(response.read())"
      ],
      "execution_count": 0,
      "outputs": []
    }
  ]
}